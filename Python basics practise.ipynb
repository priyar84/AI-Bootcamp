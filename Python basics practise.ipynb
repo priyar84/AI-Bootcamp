{
 "cells": [
  {
   "cell_type": "markdown",
   "id": "883cf823",
   "metadata": {},
   "source": [
    "# AI Bootcamp:\n",
    "\n",
    "## Week 1 - Python Basics:"
   ]
  },
  {
   "cell_type": "markdown",
   "id": "a08e7ee3",
   "metadata": {},
   "source": [
    "### 1. To find the Sum of Natural Numbers ( 0 to 10 ):\n",
    "\n",
    "  Range():\n",
    "\n",
    "The range(n) function generates a sequence of numbers starting from 0 by default and ending at n. \n",
    "Since the end value is not included, so we add 1 to include n in the sequence. Hence, range(n + 1) is used \n",
    "that calculates the sum of numbers from 0 to n (inclusive).\n"
   ]
  },
  {
   "cell_type": "code",
   "execution_count": 12,
   "id": "38d1594a",
   "metadata": {},
   "outputs": [
    {
     "name": "stdout",
     "output_type": "stream",
     "text": [
      "Sum of natural numbers from 0 to 10 is 55\n"
     ]
    }
   ],
   "source": [
    "def sum_of_natural_numbers(n):\n",
    "    return sum(range(n + 1))\n",
    "\n",
    "n= 10\n",
    "result = sum_of_natural_numbers(n)\n",
    "print(f\"Sum of natural numbers from 0 to {n} is {result}\")   # Printing using format string (f)"
   ]
  },
  {
   "cell_type": "markdown",
   "id": "b10b42e6",
   "metadata": {},
   "source": [
    "### 2. To find the Sum of Natural Numbers within a specific range from 30 to 50 :"
   ]
  },
  {
   "cell_type": "code",
   "execution_count": 13,
   "id": "0fa714fb",
   "metadata": {},
   "outputs": [
    {
     "name": "stdout",
     "output_type": "stream",
     "text": [
      "Sum of Natural numbers starting from 30 to 50 is 840\n"
     ]
    }
   ],
   "source": [
    "def sum_of_natural_numbers(start,end):\n",
    "    return sum(range(start,end + 1))\n",
    "\n",
    "start = 30\n",
    "end   = 50\n",
    "result = sum_of_natural_numbers(start, end)\n",
    "print(f\"Sum of Natural numbers starting from {start} to {end} is {result}\")"
   ]
  },
  {
   "cell_type": "markdown",
   "id": "dc9970ce",
   "metadata": {},
   "source": [
    "### 3. To count the number of digits in a number by converting the number to a string:"
   ]
  },
  {
   "cell_type": "code",
   "execution_count": 21,
   "id": "2054e3ac",
   "metadata": {},
   "outputs": [
    {
     "name": "stdout",
     "output_type": "stream",
     "text": [
      "Enter a number 221\n",
      "The number of digits in the number 221 is 3\n"
     ]
    }
   ],
   "source": [
    "def count_digits(x):\n",
    "    return len(str(x))\n",
    "\n",
    "user_input = input(\"Enter a number \")  \n",
    "result = count_digits(user_input)\n",
    "print(f\"The number of digits in the number {user_input} is {result}\")"
   ]
  },
  {
   "cell_type": "markdown",
   "id": "ac987347",
   "metadata": {},
   "source": [
    "### 4. To count the number of digits in a number for integers only:¶"
   ]
  },
  {
   "cell_type": "code",
   "execution_count": 26,
   "id": "9765113a",
   "metadata": {},
   "outputs": [
    {
     "name": "stdout",
     "output_type": "stream",
     "text": [
      "Enter a number lku\n",
      "Value Error\n"
     ]
    }
   ],
   "source": [
    "user_input = input(\"Enter a number \")\n",
    "try:\n",
    "    number = int(user_input)\n",
    "    result = len(str(number))\n",
    "    print(f\"The number of digits in the number {number} is {result}\")\n",
    "except ValueError:\n",
    "    print(\"Value Error\")      "
   ]
  },
  {
   "cell_type": "markdown",
   "id": "f21988c7",
   "metadata": {},
   "source": [
    "### 5. To find the Factorial of a number using Python Library:"
   ]
  },
  {
   "cell_type": "code",
   "execution_count": 36,
   "id": "ed2f3124",
   "metadata": {},
   "outputs": [
    {
     "name": "stdout",
     "output_type": "stream",
     "text": [
      "Enter the number 4\n",
      "The Factorial of the number 4 is 24\n"
     ]
    }
   ],
   "source": [
    "import math\n",
    "\n",
    "user_input = input(\"Enter the number \")\n",
    "number = int(user_input)\n",
    "result = math.factorial(number)\n",
    "print(f\"The Factorial of the number {user_input} is {result}\")"
   ]
  },
  {
   "cell_type": "markdown",
   "id": "337e2e51",
   "metadata": {},
   "source": [
    "### 6. To find the Factorial of a number using loop:"
   ]
  },
  {
   "cell_type": "code",
   "execution_count": 35,
   "id": "32e32cc2",
   "metadata": {},
   "outputs": [
    {
     "name": "stdout",
     "output_type": "stream",
     "text": [
      "The factorial of the number 5 is 120\n"
     ]
    }
   ],
   "source": [
    "def factorial(n):\n",
    "    result = 1\n",
    "    for i in range(1,n+1):\n",
    "        result*=i\n",
    "    return result\n",
    "\n",
    "n=5\n",
    "output = factorial(n)\n",
    "print(f\"The factorial of the number {n} is {output}\")\n",
    "      "
   ]
  },
  {
   "cell_type": "markdown",
   "id": "2acf9df1",
   "metadata": {},
   "source": [
    "### 7. To check for Palindrome:"
   ]
  },
  {
   "cell_type": "code",
   "execution_count": 40,
   "id": "25af281b",
   "metadata": {},
   "outputs": [
    {
     "name": "stdout",
     "output_type": "stream",
     "text": [
      "Yes, The number is a Palindrome\n"
     ]
    }
   ],
   "source": [
    "def ispalindrome(x):\n",
    "    original_str = str(x)\n",
    "    reverse_str = original_str[::-1]\n",
    "    return original_str == reverse_str\n",
    "\n",
    "x = 9889\n",
    "if ispalindrome(x):\n",
    "    print(\"Yes, The number is a Palindrome\")\n",
    "else:\n",
    "    print(\"No, The number is not a Palindrome\")\n"
   ]
  },
  {
   "cell_type": "code",
   "execution_count": null,
   "id": "87b6980e",
   "metadata": {},
   "outputs": [],
   "source": []
  }
 ],
 "metadata": {
  "kernelspec": {
   "display_name": "Python 3 (ipykernel)",
   "language": "python",
   "name": "python3"
  },
  "language_info": {
   "codemirror_mode": {
    "name": "ipython",
    "version": 3
   },
   "file_extension": ".py",
   "mimetype": "text/x-python",
   "name": "python",
   "nbconvert_exporter": "python",
   "pygments_lexer": "ipython3",
   "version": "3.9.19"
  }
 },
 "nbformat": 4,
 "nbformat_minor": 5
}
